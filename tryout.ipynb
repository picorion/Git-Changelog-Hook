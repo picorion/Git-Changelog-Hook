{
 "cells": [
  {
   "cell_type": "markdown",
   "metadata": {},
   "source": [
    "### Copy the hook and the Python script to the correct relative paths"
   ]
  },
  {
   "cell_type": "code",
   "execution_count": null,
   "metadata": {},
   "outputs": [],
   "source": [
    "import shutil\n",
    "\n",
    "shutil.copyfile(\"git_changelog_hook.py\", \".git/hooks/git_changelog_hook.py\")\n",
    "shutil.copyfile(\"post-commit\", \".git/hooks/post-commit\")"
   ]
  },
  {
   "cell_type": "markdown",
   "metadata": {},
   "source": [
    "### Try out the Python script manually, without the hook\n",
    "\n",
    "- Requires `git_changelog_hook.py` to be in the same directory\n",
    "- Execute either the following cell or the one after to load sample commits"
   ]
  },
  {
   "cell_type": "code",
   "execution_count": null,
   "metadata": {},
   "outputs": [],
   "source": [
    "commits = [\n",
    "    {\n",
    "        \"commit_hash\": \"a1b2cd3ef45a678901bcdef23a456bc789012d0\",\n",
    "        \"refs\": \"HEAD -> master\",\n",
    "        \"subject\": \"[test] this is a commit\",\n",
    "        \"sanitized_subject_line\": \"test-this-is-a-commit\",\n",
    "        \"body\": \"Changelog:\\n- add something\\n- [Fix] resolves a bug\\n\",\n",
    "        \"author\": {\n",
    "            \"name\": \"git-user\",\n",
    "            \"email\": \"git-user@example.com\",\n",
    "            \"date\": \"2024-01-01T01:01:01+01:00\"\n",
    "        },\n",
    "        \"commiter\": {\n",
    "            \"name\": \"git-user\",\n",
    "            \"email\": \"git-user@example.com\",\n",
    "            \"date\": \"2024-01-01T01:01:01+01:00\"\n",
    "        }\n",
    "    }\n",
    "]"
   ]
  },
  {
   "cell_type": "code",
   "execution_count": null,
   "metadata": {},
   "outputs": [],
   "source": [
    "commits = [\n",
    "    {\n",
    "        \"commit_hash\": \"a1b2cd3ef45a678901bcdef23a456bc789012d1\",\n",
    "        \"refs\": \"HEAD -> master\",\n",
    "        \"subject\": \"[test] this is a commit\",\n",
    "        \"sanitized_subject_line\": \"test-this-is-a-commit\",\n",
    "        \"body\": \"Changes:\\n- Adds cool stuff\\n- [Security] Adds an s to http\\n\",\n",
    "        \"author\": {\n",
    "            \"name\": \"git-user\",\n",
    "            \"email\": \"git-user@example.com\",\n",
    "            \"date\": \"2024-01-01T01:01:01+01:00\"\n",
    "        },\n",
    "        \"commiter\": {\n",
    "            \"name\": \"git-user\",\n",
    "            \"email\": \"git-user@example.com\",\n",
    "            \"date\": \"2024-01-01T01:01:01+01:00\"\n",
    "        }\n",
    "    },\n",
    "    {\n",
    "        \"commit_hash\": \"a1b2cd3ef45a678901bcdef23a456bc789012d2\",\n",
    "        \"refs\": \"HEAD -> master\",\n",
    "        \"subject\": \"Hello World\",\n",
    "        \"sanitized_subject_line\": \"Hello-World\",\n",
    "        \"body\": \"Changelog:\\n* Fix issue\\n* I don't fit any category\\n* [Add] Create something\\n\",\n",
    "        \"author\": {\n",
    "            \"name\": \"git-user\",\n",
    "            \"email\": \"git-user@example.com\",\n",
    "            \"date\": \"2024-01-01T02:02:02+01:00\"\n",
    "        },\n",
    "        \"commiter\": {\n",
    "            \"name\": \"git-user\",\n",
    "            \"email\": \"git-user@example.com\",\n",
    "            \"date\": \"2024-01-01T02:02:02+01:00\"\n",
    "        }\n",
    "    },\n",
    "    {\n",
    "        \"commit_hash\": \"a1b2cd3ef45a678901bcdef23a456bc789012d3\",\n",
    "        \"refs\": \"\",\n",
    "        \"subject\": \"nothing to see here\",\n",
    "        \"sanitized_subject_line\": \"nothing-to-see-here\",\n",
    "        \"body\": \"nothing to do here\",\n",
    "        \"author\": {\n",
    "            \"name\": \"git-user\",\n",
    "            \"email\": \"git-user@example.com\",\n",
    "            \"date\": \"2024-01-01T03:03:03+01:00\"\n",
    "        },\n",
    "        \"commiter\": {\n",
    "            \"name\": \"git-user\",\n",
    "            \"email\": \"git-user@example.com\",\n",
    "            \"date\": \"2024-01-01T03:03:03+01:00\"\n",
    "        }\n",
    "    }\n",
    "]"
   ]
  },
  {
   "cell_type": "code",
   "execution_count": null,
   "metadata": {},
   "outputs": [],
   "source": [
    "import os.path\n",
    "import git_changelog_hook as chook\n",
    "\n",
    "# get existing changelog or create one\n",
    "changelog = None\n",
    "if os.path.isfile(chook.CHANGELOG_FILE):\n",
    "    changelog = chook.parse_changelog(chook.CHANGELOG_FILE)\n",
    "else:\n",
    "    changelog = chook.setup_changelog()\n",
    "\n",
    "# iterate over commits, traverse commit body and add changes\n",
    "for commit in commits:\n",
    "    body = commit[\"body\"]\n",
    "    chook.traverse_commit_body(body, changelog)\n",
    "\n",
    "chook.write_changelog(changelog, chook.CHANGELOG_FILE)"
   ]
  }
 ],
 "metadata": {
  "kernelspec": {
   "display_name": "Python 3",
   "language": "python",
   "name": "python3"
  },
  "language_info": {
   "codemirror_mode": {
    "name": "ipython",
    "version": 3
   },
   "file_extension": ".py",
   "mimetype": "text/x-python",
   "name": "python",
   "nbconvert_exporter": "python",
   "pygments_lexer": "ipython3",
   "version": "3.11.3"
  }
 },
 "nbformat": 4,
 "nbformat_minor": 2
}
